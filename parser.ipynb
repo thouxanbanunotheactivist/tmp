{
 "cells": [
  {
   "cell_type": "code",
   "execution_count": 1,
   "id": "89e37069",
   "metadata": {},
   "outputs": [],
   "source": [
    "import requests\n",
    "import json\n",
    "import numpy as np\n",
    "import os\n",
    "import glob\n",
    "import time\n",
    "from datetime import datetime"
   ]
  },
  {
   "cell_type": "code",
   "execution_count": 2,
   "id": "2879e76b",
   "metadata": {},
   "outputs": [],
   "source": [
    "from tqdm import tqdm"
   ]
  },
  {
   "cell_type": "code",
   "execution_count": 3,
   "id": "892001d8",
   "metadata": {},
   "outputs": [],
   "source": [
    "parts_url \n",
    "feed_url_mask\n",
    "parts_per_page = 100"
   ]
  },
  {
   "cell_type": "code",
   "execution_count": 4,
   "id": "0752dd9a",
   "metadata": {},
   "outputs": [],
   "source": [
    "max_attempt_count = 5 # столько раз на каждый запрос\n",
    "max_data_is_empty_attempt_count = 3 #если столько раз подряд пусто, значит кончилась лента\n",
    "max_page=99\n",
    "results_folder = 'results'\n",
    "parts_results_folder = 'parts_results'\n",
    "if not os.path.exists(results_folder):\n",
    "    os.makedirs(results_folder)\n",
    "if not os.path.exists(os.path.join(results_folder, parts_results_folder)):\n",
    "    os.makedirs(os.path.join(results_folder, parts_results_folder))"
   ]
  },
  {
   "cell_type": "code",
   "execution_count": 5,
   "id": "c33f0b24",
   "metadata": {},
   "outputs": [],
   "source": [
    "#clean folder\n",
    "if datetime.utcnow().hour==10:\n",
    "    if os.path.isfile(os.path.join(results_folder, \"parts.json\")):\n",
    "        os.remove(os.path.join(results_folder, \"parts.json\"))\n",
    "\n",
    "    for f in os.listdir(os.path.join(results_folder, parts_results_folder)):\n",
    "        if f.endswith(\".json\"):\n",
    "            os.remove(os.path.join(results_folder, parts_results_folder, f))"
   ]
  },
  {
   "cell_type": "code",
   "execution_count": 6,
   "id": "aae2e981",
   "metadata": {},
   "outputs": [],
   "source": [
    "#parse part types\n",
    "if not os.path.exists(os.path.join(results_folder, \"parts.json\")):\n",
    "    attempt = 1\n",
    "    status_code = 0\n",
    "\n",
    "    while status_code!=200 and attempt < max_attempt_count:\n",
    "      r = requests.get(url=parts_url)\n",
    "      status_code = r.status_code\n",
    "      if r.status_code==200:\n",
    "        part_types = json.loads(r.text[r.text.index('(')+1 : -2])\n",
    "        with open(os.path.join(results_folder, \"parts.json\"), 'w', encoding='utf8') as outfile:\n",
    "            json.dump(part_types, outfile, ensure_ascii=False, indent=4)\n",
    "      else:\n",
    "        time.sleep(5)\n",
    "        attempt+=1\n",
    "\n",
    "    if attempt == max_attempt_count:\n",
    "        mess = 'error while parse part types, last_status:{0}'.format(status_code)\n",
    "        raise Exception(mess)\n",
    "else:\n",
    "    with open(os.path.join(results_folder, \"parts.json\"), 'r', encoding=\"utf8\") as json_file:\n",
    "        part_types = json.load(json_file)"
   ]
  },
  {
   "cell_type": "code",
   "execution_count": 7,
   "id": "7478cb2f",
   "metadata": {},
   "outputs": [],
   "source": [
    "#read companies if exists\n",
    "if os.path.exists(os.path.join(results_folder, parts_results_folder, 'companies.json')):\n",
    "    with open(os.path.join(results_folder, parts_results_folder, 'companies.json'), 'r', encoding=\"utf8\") as json_file:\n",
    "        company_dict = json.load(json_file)\n",
    "else:\n",
    "    company_dict={}"
   ]
  },
  {
   "cell_type": "code",
   "execution_count": null,
   "id": "4363a4f8",
   "metadata": {},
   "outputs": [
    {
     "name": "stderr",
     "output_type": "stream",
     "text": [
      "  2%|█▎                                                                             | 14/867 [07:27<4:53:53, 20.67s/it]"
     ]
    }
   ],
   "source": [
    "#parse feed\n",
    "try:\n",
    "    for part_type in tqdm(part_types):\n",
    "        part_type = part_type[0]\n",
    "        if part_type in [45,49,61]:\n",
    "            continue\n",
    "        if not os.path.exists(os.path.join(results_folder, parts_results_folder, str(part_type) + '.json')):\n",
    "            page = 1\n",
    "            price_from = 0\n",
    "            is_end_of_feed = False\n",
    "            data_is_empty_attempt = 1\n",
    "            result_list=[]\n",
    "            #проверим последнюю страницу. Если данные есть, заберем последнюю цену\n",
    "            \n",
    "            \n",
    "            #все страницы\n",
    "            while not is_end_of_feed:\n",
    "                attempt = 1\n",
    "                status_code = 0\n",
    "                data_is_empty = False\n",
    "                while status_code!=200 and attempt < max_attempt_count:\n",
    "                    url = feed_url_mask.format(part_type, page, parts_per_page, price_from)\n",
    "                    if page==1:\n",
    "                        url = url.replace('&page=1','')\n",
    "                    if price_from==0:\n",
    "                        url = url.replace('&price_from=0','')\n",
    "                    #print(url)\n",
    "                    try:\n",
    "                        r = requests.get(url=url)\n",
    "                        status_code = r.status_code\n",
    "                    except:\n",
    "                        status_code = -1\n",
    "                    if r.status_code==200:\n",
    "                        json_response = json.loads(r.text)\n",
    "                        if(len(json_response['data']) == 0):\n",
    "                            data_is_empty_attempt+=1\n",
    "                            data_is_empty=True\n",
    "                            break\n",
    "                        data = json_response['data']\n",
    "                        for item in data:\n",
    "                            item.update( {\"ts\":int(time.time()), \"page\":page, \"price_from\":price_from})\n",
    "                        result_list.extend(data)\n",
    "                        company_dict.update(json_response['company'])\n",
    "                    else:\n",
    "                        time.sleep(5)\n",
    "                        attempt+=1\n",
    "                if attempt == max_attempt_count:\n",
    "                    mess = 'error while parse parts, part_type:{0},  last_status:{0}'.format(part_type, status_code)\n",
    "                    raise Exception(mess)\n",
    "                if data_is_empty:\n",
    "                    if data_is_empty_attempt==3:\n",
    "                        is_end_of_feed = True\n",
    "                    continue\n",
    "                \n",
    "                if page==max_page:\n",
    "                    page = 1\n",
    "                    price_from = max([x['price'] for x in data])\n",
    "                else:\n",
    "                    page+=1\n",
    "\n",
    "            with open(os.path.join(results_folder, parts_results_folder, str(part_type) + '.json'), 'w', encoding='utf8') as outfile:\n",
    "                json.dump(result_list, outfile, ensure_ascii=False, indent=4)\n",
    "            with open(os.path.join(results_folder, parts_results_folder, 'companies.json'), 'w', encoding='utf8') as outfile:\n",
    "                json.dump(company_dict, outfile, ensure_ascii=False, indent=4)\n",
    "        \n",
    "except Exception as e:\n",
    "    with open(os.path.join(results_folder, parts_results_folder, 'companies.json'), 'w', encoding='utf8') as outfile:\n",
    "        json.dump(company_dict, outfile, ensure_ascii=False, indent=4)\n",
    "    raise e"
   ]
  },
  {
   "cell_type": "code",
   "execution_count": null,
   "id": "ef5b5cf6",
   "metadata": {},
   "outputs": [],
   "source": [
    "len(result_list)"
   ]
  },
  {
   "cell_type": "code",
   "execution_count": null,
   "id": "9d930d21",
   "metadata": {},
   "outputs": [],
   "source": [
    "part_type"
   ]
  },
  {
   "cell_type": "code",
   "execution_count": null,
   "id": "db1ab027",
   "metadata": {},
   "outputs": [],
   "source": [
    "attempt"
   ]
  },
  {
   "cell_type": "code",
   "execution_count": null,
   "id": "c3f018e8",
   "metadata": {},
   "outputs": [],
   "source": [
    " os.listdir(os.path.join(results_folder, parts_results_folder))"
   ]
  },
  {
   "cell_type": "code",
   "execution_count": null,
   "id": "ef311ff1",
   "metadata": {},
   "outputs": [],
   "source": [
    "files"
   ]
  },
  {
   "cell_type": "code",
   "execution_count": null,
   "id": "5408aed7",
   "metadata": {},
   "outputs": [],
   "source": [
    "from collections import Counter\n",
    "from itertools import groupby\n",
    "\n",
    "f = lambda x: x['sup_invnn']\n",
    "dct = {k: Counter(d['sup_invnn'] for d in g) for k, g in groupby(result_list, f)}\n",
    "print(dct)"
   ]
  },
  {
   "cell_type": "code",
   "execution_count": null,
   "id": "1f43f0b1",
   "metadata": {},
   "outputs": [],
   "source": [
    "len(result_list)"
   ]
  },
  {
   "cell_type": "code",
   "execution_count": null,
   "id": "66f53f18",
   "metadata": {},
   "outputs": [],
   "source": [
    "from collections import Counter\n",
    "\n",
    "c = Counter([d['sup_invnn'] for d in result_list])\n",
    "print(c)"
   ]
  },
  {
   "cell_type": "code",
   "execution_count": null,
   "id": "a85e5525",
   "metadata": {},
   "outputs": [],
   "source": [
    "[d['page'] for d in result_list if d['sup_invnn'] == '39579-39646-93S33J301']"
   ]
  },
  {
   "cell_type": "code",
   "execution_count": null,
   "id": "ece9a3a9",
   "metadata": {},
   "outputs": [],
   "source": [
    "from collections import Counter\n",
    "\n",
    "c = Counter([d['spt_translite'] for d in result_list])\n",
    "print(c)"
   ]
  },
  {
   "cell_type": "code",
   "execution_count": null,
   "id": "62583d17",
   "metadata": {},
   "outputs": [],
   "source": [
    "#count\n",
    "part_type = 31801\n",
    "page = 1\n",
    "\n",
    "attempt = 1\n",
    "status_code = 0\n",
    "\n",
    "while status_code!=200 and attempt < max_attempt_count:\n",
    "    r = requests.get(url=feed_url_mask.format(part_type, page, parts_per_page))\n",
    "    status_code = r.status_code\n",
    "    if r.status_code==200:\n",
    "        json_response = json.loads(r.text)\n",
    "        print(json_response[\"count\"])\n",
    "    else:\n",
    "        time.sleep(5)\n",
    "        attempt+=1\n",
    "\n",
    "if attempt == max_attempt_count:\n",
    "  print('last_status:{0}'.format(status_code))"
   ]
  },
  {
   "cell_type": "code",
   "execution_count": null,
   "id": "8805591f",
   "metadata": {},
   "outputs": [],
   "source": []
  }
 ],
 "metadata": {
  "kernelspec": {
   "display_name": "Python 3",
   "language": "python",
   "name": "python3"
  },
  "language_info": {
   "codemirror_mode": {
    "name": "ipython",
    "version": 3
   },
   "file_extension": ".py",
   "mimetype": "text/x-python",
   "name": "python",
   "nbconvert_exporter": "python",
   "pygments_lexer": "ipython3",
   "version": "3.8.8"
  }
 },
 "nbformat": 4,
 "nbformat_minor": 5
}
