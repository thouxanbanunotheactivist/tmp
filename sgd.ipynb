{
 "cells": [
  {
   "cell_type": "code",
   "execution_count": 1,
   "id": "4c2e91a8",
   "metadata": {},
   "outputs": [],
   "source": [
    "import numpy as np\n",
    "import matplotlib.pyplot as plt\n",
    "import random\n",
    "from sklearn.datasets import load_iris\n",
    "from sklearn.preprocessing import StandardScaler\n",
    "from sklearn.model_selection import train_test_split"
   ]
  },
  {
   "cell_type": "code",
   "execution_count": 2,
   "id": "ccecc4bb",
   "metadata": {},
   "outputs": [],
   "source": [
    "# Функционал качества\n",
    "def Q_calculate(X, y, w, t):\n",
    "    Q = np.dot(np.dot(w.T,X.T),np.dot(X,w)) - 2*np.dot(np.dot(w.T,X.T),y) + np.dot(y.T, y) + t*np.dot(w.T,w)\n",
    "    return Q"
   ]
  },
  {
   "cell_type": "code",
   "execution_count": 4,
   "id": "b9c7b8ea",
   "metadata": {},
   "outputs": [],
   "source": [
    "# Шаг регрессии\n",
    "def sgs(X, y, w, h, t, rand):\n",
    "    x_k = X[rand]\n",
    "    y_k = y[rand]\n",
    "    return w*(1 - h*t) - (np.dot(w, x_k) - y_k) * 2 * h * x_k"
   ]
  },
  {
   "cell_type": "code",
   "execution_count": 5,
   "id": "db2d6d70",
   "metadata": {},
   "outputs": [],
   "source": [
    "# Стохастический градиент\n",
    "def SGD(X, y, w_init, t = 0.01, eps = 1e-3, max_iter = 1e5):\n",
    "    w = w_init\n",
    "    Q_values = []\n",
    "\n",
    "    Q = Q_calculate(X, y, w, t)\n",
    "    h = 1\n",
    "    i = 1\n",
    "    count = 0\n",
    "    while count < 10 and i < max_iter:\n",
    "        Q_prev = Q\n",
    "\n",
    "        rand = random.randint(0, len(X)-1)\n",
    "        w = sgs(X, y, w, h, t, rand)\n",
    "        Q = Q_calculate(X, y, w, t)\n",
    "        Q_values = np.append(Q_values, Q)\n",
    "\n",
    "        if abs(Q - Q_prev) < eps:\n",
    "            count += 1\n",
    "        else:\n",
    "            count = 0\n",
    "\n",
    "        i += 1\n",
    "        h = 1 / i\n",
    "\n",
    "    return w, Q_values, t"
   ]
  },
  {
   "cell_type": "code",
   "execution_count": 6,
   "id": "bb9e6578",
   "metadata": {},
   "outputs": [],
   "source": [
    "def cross_validation(X_test, Y_test, w_o):\n",
    "    n = 100\n",
    "    r_values = np.zeros(n)\n",
    "    t_values = np.zeros(n)\n",
    "    w_arr = np.zeros((n, len(w_o)))\n",
    "\n",
    "    i = 0\n",
    "    t = 0\n",
    "    while i < n:\n",
    "        w, Q_values, t = SGD(X_test, Y_test, w_o, t)\n",
    "\n",
    "        Y_pred = predict(X_test, w)\n",
    "        r = np.corrcoef(Y_test, Y_pred)[0, 1]\n",
    "        r_values[i] = r ** 2\n",
    "        t_values[i] = t\n",
    "        w_arr[i] = w\n",
    "\n",
    "        t += 0.01\n",
    "        i += 1\n",
    "    \n",
    "    return r_values, t_values, w_arr"
   ]
  },
  {
   "cell_type": "code",
   "execution_count": 7,
   "id": "7f787b03",
   "metadata": {},
   "outputs": [],
   "source": [
    "def predict(X, w):\n",
    "    return np.dot(X, w)"
   ]
  },
  {
   "cell_type": "code",
   "execution_count": 13,
   "id": "1226bb19",
   "metadata": {},
   "outputs": [],
   "source": [
    "# dataset\n",
    "# data = load_iris()\n",
    "# X = data.data\n",
    "# y = data.target\n",
    "\n",
    "from sklearn.datasets import make_regression\n",
    "X, y = make_regression(n_samples = 200,n_features=5)\n",
    "# scaler data\n",
    "scaler = StandardScaler()\n",
    "scaler.fit(X)\n",
    "X = scaler.transform(X)\n",
    "    \n",
    "X = np.hstack((np.ones((X.shape[0], 1)) * -1, X)) #добавляем столбец\n",
    "\n",
    "# split data\n",
    "X_train, X_test, Y_train, Y_test = train_test_split(X, y,  train_size = 0.7, test_size = 0.3)"
   ]
  },
  {
   "cell_type": "code",
   "execution_count": 14,
   "id": "32aec680",
   "metadata": {},
   "outputs": [],
   "source": [
    "w_o, Q_values, t = SGD(X_train, Y_train, np.zeros( X.shape[1]) ) \n",
    "\n",
    "r_values, t_values, w_arr = cross_validation(X_test, Y_test, w_o)"
   ]
  },
  {
   "cell_type": "code",
   "execution_count": 16,
   "id": "2520dfc5",
   "metadata": {},
   "outputs": [
    {
     "data": {
      "text/plain": [
       "[<matplotlib.lines.Line2D at 0x17591606fd0>]"
      ]
     },
     "execution_count": 16,
     "metadata": {},
     "output_type": "execute_result"
    },
    {
     "data": {
      "image/png": "[encoded data removed]",
      "text/plain": [
       "<Figure size 432x288 with 1 Axes>"
      ]
     },
     "metadata": {
      "needs_background": "light"
     },
     "output_type": "display_data"
    }
   ],
   "source": [
    "plt.plot(t_values, r_values)"
   ]
  },
  {
   "cell_type": "code",
   "execution_count": 20,
   "id": "759f5c8d",
   "metadata": {},
   "outputs": [
    {
     "name": "stdout",
     "output_type": "stream",
     "text": [
      "[ 3.75126247 22.96667857 39.58092075 21.06928249 81.09408329 55.89346641] 0.9999999841401791 0.0 0.058816688833758235\n"
     ]
    }
   ],
   "source": [
    "index = np.argsort(r_values)[-1]\n",
    "\n",
    "r = r_values[index]\n",
    "t = t_values[index]\n",
    "\n",
    "w, Q_values, t = SGD(X_test, Y_test, w_o, t)\n",
    "\n",
    "Q = Q_values[-1]\n",
    "\n",
    "print(w,r,t,Q)"
   ]
  },
  {
   "cell_type": "code",
   "execution_count": 21,
   "id": "87172a76",
   "metadata": {},
   "outputs": [
    {
     "data": {
      "text/plain": [
       "[<matplotlib.lines.Line2D at 0x175916c1bb0>]"
      ]
     },
     "execution_count": 21,
     "metadata": {},
     "output_type": "execute_result"
    },
    {
     "data": {
      "image/png": "[encoded data removed]",
      "text/plain": [
       "<Figure size 432x288 with 1 Axes>"
      ]
     },
     "metadata": {
      "needs_background": "light"
     },
     "output_type": "display_data"
    }
   ],
   "source": [
    "plt.plot(Q_values[-len(Q_values)+50:])"
   ]
  }
 ],
 "metadata": {
  "kernelspec": {
   "display_name": "Python 3",
   "language": "python",
   "name": "python3"
  },
  "language_info": {
   "codemirror_mode": {
    "name": "ipython",
    "version": 3
   },
   "file_extension": ".py",
   "mimetype": "text/x-python",
   "name": "python",
   "nbconvert_exporter": "python",
   "pygments_lexer": "ipython3",
   "version": "3.8.8"
  }
 },
 "nbformat": 4,
 "nbformat_minor": 5
}
